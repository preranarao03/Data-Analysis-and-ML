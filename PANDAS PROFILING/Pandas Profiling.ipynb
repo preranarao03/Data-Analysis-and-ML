{
 "cells": [
  {
   "cell_type": "code",
   "execution_count": null,
   "id": "d6d5c9df",
   "metadata": {},
   "outputs": [],
   "source": [
    "# PANDAS PROFILING"
   ]
  },
  {
   "cell_type": "code",
   "execution_count": 1,
   "id": "2878f31b",
   "metadata": {},
   "outputs": [],
   "source": [
    "import pandas as pd"
   ]
  },
  {
   "cell_type": "code",
   "execution_count": 2,
   "id": "aa7a381d",
   "metadata": {},
   "outputs": [],
   "source": [
    "df = pd.read_csv('train.csv')"
   ]
  },
  {
   "cell_type": "code",
   "execution_count": 3,
   "id": "f7240708",
   "metadata": {},
   "outputs": [
    {
     "data": {
      "text/html": [
       "<div>\n",
       "<style scoped>\n",
       "    .dataframe tbody tr th:only-of-type {\n",
       "        vertical-align: middle;\n",
       "    }\n",
       "\n",
       "    .dataframe tbody tr th {\n",
       "        vertical-align: top;\n",
       "    }\n",
       "\n",
       "    .dataframe thead th {\n",
       "        text-align: right;\n",
       "    }\n",
       "</style>\n",
       "<table border=\"1\" class=\"dataframe\">\n",
       "  <thead>\n",
       "    <tr style=\"text-align: right;\">\n",
       "      <th></th>\n",
       "      <th>PassengerId</th>\n",
       "      <th>Survived</th>\n",
       "      <th>Pclass</th>\n",
       "      <th>Name</th>\n",
       "      <th>Sex</th>\n",
       "      <th>Age</th>\n",
       "      <th>SibSp</th>\n",
       "      <th>Parch</th>\n",
       "      <th>Ticket</th>\n",
       "      <th>Fare</th>\n",
       "      <th>Cabin</th>\n",
       "      <th>Embarked</th>\n",
       "    </tr>\n",
       "  </thead>\n",
       "  <tbody>\n",
       "    <tr>\n",
       "      <th>0</th>\n",
       "      <td>1</td>\n",
       "      <td>0</td>\n",
       "      <td>3</td>\n",
       "      <td>Braund, Mr. Owen Harris</td>\n",
       "      <td>male</td>\n",
       "      <td>22.0</td>\n",
       "      <td>1</td>\n",
       "      <td>0</td>\n",
       "      <td>A/5 21171</td>\n",
       "      <td>7.2500</td>\n",
       "      <td>NaN</td>\n",
       "      <td>S</td>\n",
       "    </tr>\n",
       "    <tr>\n",
       "      <th>1</th>\n",
       "      <td>2</td>\n",
       "      <td>1</td>\n",
       "      <td>1</td>\n",
       "      <td>Cumings, Mrs. John Bradley (Florence Briggs Th...</td>\n",
       "      <td>female</td>\n",
       "      <td>38.0</td>\n",
       "      <td>1</td>\n",
       "      <td>0</td>\n",
       "      <td>PC 17599</td>\n",
       "      <td>71.2833</td>\n",
       "      <td>C85</td>\n",
       "      <td>C</td>\n",
       "    </tr>\n",
       "    <tr>\n",
       "      <th>2</th>\n",
       "      <td>3</td>\n",
       "      <td>1</td>\n",
       "      <td>3</td>\n",
       "      <td>Heikkinen, Miss. Laina</td>\n",
       "      <td>female</td>\n",
       "      <td>26.0</td>\n",
       "      <td>0</td>\n",
       "      <td>0</td>\n",
       "      <td>STON/O2. 3101282</td>\n",
       "      <td>7.9250</td>\n",
       "      <td>NaN</td>\n",
       "      <td>S</td>\n",
       "    </tr>\n",
       "    <tr>\n",
       "      <th>3</th>\n",
       "      <td>4</td>\n",
       "      <td>1</td>\n",
       "      <td>1</td>\n",
       "      <td>Futrelle, Mrs. Jacques Heath (Lily May Peel)</td>\n",
       "      <td>female</td>\n",
       "      <td>35.0</td>\n",
       "      <td>1</td>\n",
       "      <td>0</td>\n",
       "      <td>113803</td>\n",
       "      <td>53.1000</td>\n",
       "      <td>C123</td>\n",
       "      <td>S</td>\n",
       "    </tr>\n",
       "    <tr>\n",
       "      <th>4</th>\n",
       "      <td>5</td>\n",
       "      <td>0</td>\n",
       "      <td>3</td>\n",
       "      <td>Allen, Mr. William Henry</td>\n",
       "      <td>male</td>\n",
       "      <td>35.0</td>\n",
       "      <td>0</td>\n",
       "      <td>0</td>\n",
       "      <td>373450</td>\n",
       "      <td>8.0500</td>\n",
       "      <td>NaN</td>\n",
       "      <td>S</td>\n",
       "    </tr>\n",
       "  </tbody>\n",
       "</table>\n",
       "</div>"
      ],
      "text/plain": [
       "   PassengerId  Survived  Pclass  \\\n",
       "0            1         0       3   \n",
       "1            2         1       1   \n",
       "2            3         1       3   \n",
       "3            4         1       1   \n",
       "4            5         0       3   \n",
       "\n",
       "                                                Name     Sex   Age  SibSp  \\\n",
       "0                            Braund, Mr. Owen Harris    male  22.0      1   \n",
       "1  Cumings, Mrs. John Bradley (Florence Briggs Th...  female  38.0      1   \n",
       "2                             Heikkinen, Miss. Laina  female  26.0      0   \n",
       "3       Futrelle, Mrs. Jacques Heath (Lily May Peel)  female  35.0      1   \n",
       "4                           Allen, Mr. William Henry    male  35.0      0   \n",
       "\n",
       "   Parch            Ticket     Fare Cabin Embarked  \n",
       "0      0         A/5 21171   7.2500   NaN        S  \n",
       "1      0          PC 17599  71.2833   C85        C  \n",
       "2      0  STON/O2. 3101282   7.9250   NaN        S  \n",
       "3      0            113803  53.1000  C123        S  \n",
       "4      0            373450   8.0500   NaN        S  "
      ]
     },
     "execution_count": 3,
     "metadata": {},
     "output_type": "execute_result"
    }
   ],
   "source": [
    "df.head()"
   ]
  },
  {
   "cell_type": "code",
   "execution_count": 4,
   "id": "79dca0d7",
   "metadata": {},
   "outputs": [
    {
     "name": "stdout",
     "output_type": "stream",
     "text": [
      "Requirement already satisfied: pandas-profiling in /Users/preranarao/anaconda3/lib/python3.11/site-packages (3.2.0)\n",
      "Requirement already satisfied: joblib~=1.1.0 in /Users/preranarao/anaconda3/lib/python3.11/site-packages (from pandas-profiling) (1.1.1)\n",
      "Requirement already satisfied: scipy>=1.4.1 in /Users/preranarao/anaconda3/lib/python3.11/site-packages (from pandas-profiling) (1.11.1)\n",
      "Requirement already satisfied: pandas!=1.0.0,!=1.0.1,!=1.0.2,!=1.1.0,>=0.25.3 in /Users/preranarao/anaconda3/lib/python3.11/site-packages (from pandas-profiling) (2.0.3)\n",
      "Requirement already satisfied: matplotlib>=3.2.0 in /Users/preranarao/anaconda3/lib/python3.11/site-packages (from pandas-profiling) (3.7.2)\n",
      "Requirement already satisfied: pydantic>=1.8.1 in /Users/preranarao/anaconda3/lib/python3.11/site-packages (from pandas-profiling) (2.6.0)\n",
      "Requirement already satisfied: PyYAML>=5.0.0 in /Users/preranarao/anaconda3/lib/python3.11/site-packages (from pandas-profiling) (6.0)\n",
      "Requirement already satisfied: jinja2>=2.11.1 in /Users/preranarao/anaconda3/lib/python3.11/site-packages (from pandas-profiling) (3.1.2)\n",
      "Requirement already satisfied: markupsafe~=2.1.1 in /Users/preranarao/anaconda3/lib/python3.11/site-packages (from pandas-profiling) (2.1.1)\n",
      "Collecting visions[type_image_path]==0.7.4 (from pandas-profiling)\n",
      "  Obtaining dependency information for visions[type_image_path]==0.7.4 from https://files.pythonhosted.org/packages/66/00/166b2beb8046f06b77a2bf2c1dafeb52eff608f7dd420c767d5f3ce36ef5/visions-0.7.4-py3-none-any.whl.metadata\n",
      "  Downloading visions-0.7.4-py3-none-any.whl.metadata (5.9 kB)\n",
      "Requirement already satisfied: numpy>=1.16.0 in /Users/preranarao/anaconda3/lib/python3.11/site-packages (from pandas-profiling) (1.24.3)\n",
      "Requirement already satisfied: htmlmin>=0.1.12 in /Users/preranarao/anaconda3/lib/python3.11/site-packages (from pandas-profiling) (0.1.12)\n",
      "Requirement already satisfied: missingno>=0.4.2 in /Users/preranarao/anaconda3/lib/python3.11/site-packages (from pandas-profiling) (0.5.2)\n",
      "Requirement already satisfied: phik>=0.11.1 in /Users/preranarao/anaconda3/lib/python3.11/site-packages (from pandas-profiling) (0.12.4)\n",
      "Requirement already satisfied: tangled-up-in-unicode==0.2.0 in /Users/preranarao/anaconda3/lib/python3.11/site-packages (from pandas-profiling) (0.2.0)\n",
      "Requirement already satisfied: requests>=2.24.0 in /Users/preranarao/anaconda3/lib/python3.11/site-packages (from pandas-profiling) (2.31.0)\n",
      "Requirement already satisfied: tqdm>=4.48.2 in /Users/preranarao/anaconda3/lib/python3.11/site-packages (from pandas-profiling) (4.65.0)\n",
      "Requirement already satisfied: seaborn>=0.10.1 in /Users/preranarao/anaconda3/lib/python3.11/site-packages (from pandas-profiling) (0.12.2)\n",
      "Requirement already satisfied: multimethod>=1.4 in /Users/preranarao/anaconda3/lib/python3.11/site-packages (from pandas-profiling) (1.11)\n",
      "Requirement already satisfied: attrs>=19.3.0 in /Users/preranarao/anaconda3/lib/python3.11/site-packages (from visions[type_image_path]==0.7.4->pandas-profiling) (22.1.0)\n",
      "Requirement already satisfied: networkx>=2.4 in /Users/preranarao/anaconda3/lib/python3.11/site-packages (from visions[type_image_path]==0.7.4->pandas-profiling) (3.1)\n",
      "Requirement already satisfied: imagehash in /Users/preranarao/anaconda3/lib/python3.11/site-packages (from visions[type_image_path]==0.7.4->pandas-profiling) (4.3.1)\n",
      "Requirement already satisfied: Pillow in /Users/preranarao/anaconda3/lib/python3.11/site-packages (from visions[type_image_path]==0.7.4->pandas-profiling) (9.4.0)\n",
      "Requirement already satisfied: contourpy>=1.0.1 in /Users/preranarao/anaconda3/lib/python3.11/site-packages (from matplotlib>=3.2.0->pandas-profiling) (1.0.5)\n",
      "Requirement already satisfied: cycler>=0.10 in /Users/preranarao/anaconda3/lib/python3.11/site-packages (from matplotlib>=3.2.0->pandas-profiling) (0.11.0)\n",
      "Requirement already satisfied: fonttools>=4.22.0 in /Users/preranarao/anaconda3/lib/python3.11/site-packages (from matplotlib>=3.2.0->pandas-profiling) (4.25.0)\n",
      "Requirement already satisfied: kiwisolver>=1.0.1 in /Users/preranarao/anaconda3/lib/python3.11/site-packages (from matplotlib>=3.2.0->pandas-profiling) (1.4.4)\n",
      "Requirement already satisfied: packaging>=20.0 in /Users/preranarao/anaconda3/lib/python3.11/site-packages (from matplotlib>=3.2.0->pandas-profiling) (23.1)\n",
      "Requirement already satisfied: pyparsing<3.1,>=2.3.1 in /Users/preranarao/anaconda3/lib/python3.11/site-packages (from matplotlib>=3.2.0->pandas-profiling) (3.0.9)\n",
      "Requirement already satisfied: python-dateutil>=2.7 in /Users/preranarao/anaconda3/lib/python3.11/site-packages (from matplotlib>=3.2.0->pandas-profiling) (2.8.2)\n",
      "Requirement already satisfied: pytz>=2020.1 in /Users/preranarao/anaconda3/lib/python3.11/site-packages (from pandas!=1.0.0,!=1.0.1,!=1.0.2,!=1.1.0,>=0.25.3->pandas-profiling) (2023.3.post1)\n",
      "Requirement already satisfied: tzdata>=2022.1 in /Users/preranarao/anaconda3/lib/python3.11/site-packages (from pandas!=1.0.0,!=1.0.1,!=1.0.2,!=1.1.0,>=0.25.3->pandas-profiling) (2023.3)\n",
      "Requirement already satisfied: annotated-types>=0.4.0 in /Users/preranarao/anaconda3/lib/python3.11/site-packages (from pydantic>=1.8.1->pandas-profiling) (0.6.0)\n",
      "Requirement already satisfied: pydantic-core==2.16.1 in /Users/preranarao/anaconda3/lib/python3.11/site-packages (from pydantic>=1.8.1->pandas-profiling) (2.16.1)\n",
      "Requirement already satisfied: typing-extensions>=4.6.1 in /Users/preranarao/anaconda3/lib/python3.11/site-packages (from pydantic>=1.8.1->pandas-profiling) (4.7.1)\n",
      "Requirement already satisfied: charset-normalizer<4,>=2 in /Users/preranarao/anaconda3/lib/python3.11/site-packages (from requests>=2.24.0->pandas-profiling) (2.0.4)\n",
      "Requirement already satisfied: idna<4,>=2.5 in /Users/preranarao/anaconda3/lib/python3.11/site-packages (from requests>=2.24.0->pandas-profiling) (3.4)\n",
      "Requirement already satisfied: urllib3<3,>=1.21.1 in /Users/preranarao/anaconda3/lib/python3.11/site-packages (from requests>=2.24.0->pandas-profiling) (1.26.16)\n",
      "Requirement already satisfied: certifi>=2017.4.17 in /Users/preranarao/anaconda3/lib/python3.11/site-packages (from requests>=2.24.0->pandas-profiling) (2023.7.22)\n",
      "Requirement already satisfied: six>=1.5 in /Users/preranarao/anaconda3/lib/python3.11/site-packages (from python-dateutil>=2.7->matplotlib>=3.2.0->pandas-profiling) (1.16.0)\n",
      "Requirement already satisfied: PyWavelets in /Users/preranarao/anaconda3/lib/python3.11/site-packages (from imagehash->visions[type_image_path]==0.7.4->pandas-profiling) (1.4.1)\n",
      "Using cached visions-0.7.4-py3-none-any.whl (102 kB)\n",
      "Installing collected packages: visions\n",
      "  Attempting uninstall: visions\n",
      "    Found existing installation: visions 0.7.5\n",
      "    Uninstalling visions-0.7.5:\n",
      "      Successfully uninstalled visions-0.7.5\n",
      "\u001b[31mERROR: pip's dependency resolver does not currently take into account all the packages that are installed. This behaviour is the source of the following dependency conflicts.\n",
      "ydata-profiling 4.6.4 requires visions[type_image_path]==0.7.5, but you have visions 0.7.4 which is incompatible.\u001b[0m\u001b[31m\n",
      "\u001b[0mSuccessfully installed visions-0.7.4\n"
     ]
    }
   ],
   "source": [
    "!pip install pandas-profiling"
   ]
  },
  {
   "cell_type": "code",
   "execution_count": 6,
   "id": "51a00717",
   "metadata": {},
   "outputs": [
    {
     "name": "stderr",
     "output_type": "stream",
     "text": [
      "/Users/preranarao/anaconda3/lib/python3.11/site-packages/ydata_profiling/profile_report.py:354: UserWarning: Try running command: 'pip install --upgrade Pillow' to avoid ValueError\n",
      "  warnings.warn(\n"
     ]
    },
    {
     "data": {
      "application/vnd.jupyter.widget-view+json": {
       "model_id": "c0dd723d66044c408a843ca3c1344b13",
       "version_major": 2,
       "version_minor": 0
      },
      "text/plain": [
       "Summarize dataset:   0%|          | 0/5 [00:00<?, ?it/s]"
      ]
     },
     "metadata": {},
     "output_type": "display_data"
    },
    {
     "data": {
      "application/vnd.jupyter.widget-view+json": {
       "model_id": "f5b2db69086b4b75b23caedbc22f3290",
       "version_major": 2,
       "version_minor": 0
      },
      "text/plain": [
       "Generate report structure:   0%|          | 0/1 [00:00<?, ?it/s]"
      ]
     },
     "metadata": {},
     "output_type": "display_data"
    },
    {
     "data": {
      "application/vnd.jupyter.widget-view+json": {
       "model_id": "9608a0bc61854df0b0ef949a8c4f1cb8",
       "version_major": 2,
       "version_minor": 0
      },
      "text/plain": [
       "Render HTML:   0%|          | 0/1 [00:00<?, ?it/s]"
      ]
     },
     "metadata": {},
     "output_type": "display_data"
    },
    {
     "data": {
      "application/vnd.jupyter.widget-view+json": {
       "model_id": "dc96a74b407145aab1d129025a696953",
       "version_major": 2,
       "version_minor": 0
      },
      "text/plain": [
       "Export report to file:   0%|          | 0/1 [00:00<?, ?it/s]"
      ]
     },
     "metadata": {},
     "output_type": "display_data"
    }
   ],
   "source": [
    "from pandas_profiling import ProfileReport\n",
    "prof = ProfileReport(df)\n",
    "prof.to_file(output_file='output.html')\n",
    "\n",
    "# here, you are making a profile report based on your dataframe\n",
    "# then from that profile report you are creating a html page that will have all the imp. data analysis carried out\n"
   ]
  },
  {
   "cell_type": "code",
   "execution_count": null,
   "id": "b40aeecc",
   "metadata": {},
   "outputs": [],
   "source": [
    "# There are 6 sections in the html page:\n",
    "  # OVERVIEW: basic details such as no. of variables(columns), no. of observations(rows) etc..\n",
    "  # VARIABLES: univariate analysis is carried on each column\n",
    "  # INTERACTIONS: bivariate analysis is carried out between columns\n",
    "  # CORRELATIONS: is bivariate analysis, finds the correlation between columns\n",
    "  # MISSING VALUES: tells how many missing values in each columns\n",
    "  # SAMPLE: gives us the sample rows (ex - first 5 rows, first 10 rows, etc.) "
   ]
  },
  {
   "cell_type": "code",
   "execution_count": null,
   "id": "0105c7b9",
   "metadata": {},
   "outputs": [],
   "source": []
  }
 ],
 "metadata": {
  "kernelspec": {
   "display_name": "Python 3 (ipykernel)",
   "language": "python",
   "name": "python3"
  },
  "language_info": {
   "codemirror_mode": {
    "name": "ipython",
    "version": 3
   },
   "file_extension": ".py",
   "mimetype": "text/x-python",
   "name": "python",
   "nbconvert_exporter": "python",
   "pygments_lexer": "ipython3",
   "version": "3.11.5"
  }
 },
 "nbformat": 4,
 "nbformat_minor": 5
}
